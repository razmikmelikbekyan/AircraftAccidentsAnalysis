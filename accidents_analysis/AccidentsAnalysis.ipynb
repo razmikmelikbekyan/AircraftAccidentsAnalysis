{
 "cells": [
  {
   "cell_type": "code",
   "execution_count": 1,
   "metadata": {},
   "outputs": [],
   "source": [
    "import json\n",
    "import mysql.connector\n",
    "import pandas as pd\n",
    "from utils import sql_table_to_pandas\n",
    "import matplotlib.pyplot as plt\n",
    "import seaborn as sns\n",
    "import re\n",
    "import time\n",
    "import numpy as np\n",
    "import datetime"
   ]
  },
  {
   "cell_type": "code",
   "execution_count": 2,
   "metadata": {},
   "outputs": [],
   "source": [
    "pd.set_option(\n",
    "    'display.max_rows', 100,\n",
    "    'display.max_columns', None,\n",
    "    'display.max_colwidth', 200,\n",
    "    'display.width', 100,\n",
    "    'display.float_format', '{:4,.2f}'.format\n",
    ")\n"
   ]
  },
  {
   "cell_type": "markdown",
   "metadata": {},
   "source": [
    "## Dataset description"
   ]
  },
  {
   "attachments": {},
   "cell_type": "markdown",
   "metadata": {},
   "source": [
    "- *status*: investigation status\n",
    "- *time*: the time of accident\n",
    "- *day*: the day of accident\n",
    "- *month*: the monthe of accident\n",
    "- *year*: the year of accdient\n",
    "- *first_flight*: the year of aircraft first flight\n",
    "- *total_airframe_hrs*: the hours that aircraft flied\n",
    "- *aircraft_type*: the model of aircraft\n",
    "- *operator*: the company, organisation or individual operating the aircraft at the time of the accident\n",
    "- *country*: the country of accident\n",
    "- *location*: more detailed location of accident\n",
    "- *phase*: the phase of flight\n",
    "- *nature*: the nature of the flight\n",
    "- *engines*: number and type (model and mark) of engines\n",
    "- *narrative*: the description of the occurrence\n",
    "- *probable_cause*: the probable cause of the accident as established by the accident investigators\n",
    "- *aircraft_damage*: describes the amount of damage to the airplane as a result of the occurrence\n",
    "- *departure_airport*: the last airport of departure before the accident\n",
    "- *destination_airport*: the scheduled destination airport\n",
    "- *crew_occupants*: the exact number of flight- and cabincrew members aboard the aircraft at the time of departure\n",
    "- *crew_fatalities*: the number of crew members who fatally injured as a direct result of the accident\n",
    "- *passengers_occupants*: the number of passengers aboard the aircraft at the time of departure\n",
    "- *passengers_fatalities*: the number of passengers who fatally injured as a direct result of the accident\n",
    "- *total_occupants*: crew_occupants + passengers_occupants\n",
    "- *total_fatalities*: crew_fatalities + passengers_fatalities"
   ]
  },
  {
   "cell_type": "markdown",
   "metadata": {},
   "source": [
    "## Dataset cleaning"
   ]
  },
  {
   "cell_type": "code",
   "execution_count": 3,
   "metadata": {},
   "outputs": [],
   "source": [
    "df = sql_table_to_pandas('../db_config.JSON', 'accidents')"
   ]
  },
  {
   "cell_type": "code",
   "execution_count": 4,
   "metadata": {},
   "outputs": [],
   "source": [
    "df = df.replace({None: np.nan, 'None': np.nan})"
   ]
  },
  {
   "cell_type": "code",
   "execution_count": 5,
   "metadata": {},
   "outputs": [
    {
     "data": {
      "text/plain": [
       "(22767, 27)"
      ]
     },
     "execution_count": 5,
     "metadata": {},
     "output_type": "execute_result"
    }
   ],
   "source": [
    "df.shape"
   ]
  },
  {
   "cell_type": "markdown",
   "metadata": {},
   "source": [
    "###### time"
   ]
  },
  {
   "cell_type": "code",
   "execution_count": 6,
   "metadata": {},
   "outputs": [],
   "source": [
    "def correct_time(x) -> datetime.time or np.nan:\n",
    "    \"\"\"Removes times which are not in local time of accident.\"\"\"\n",
    "    if pd.isnull(x):\n",
    "        return np.nan\n",
    "    \n",
    "    # ca or c. means circa which translated from latin means approximate\n",
    "    x = x.replace('ca', '').replace('c.', '').replace(' ', '')\n",
    "    \n",
    "\n",
    "    if re.match(r'^(2[0-3]|[01]?[0-9]):([0-5]?[0-9])$', x):\n",
    "        return datetime.datetime.strptime(x, '%H:%M').time()\n",
    "    elif re.match(r'^(2[0-3]|[01]?[0-9]):([0-5]?[0-9]):([0-5]?[0-9])$', x):\n",
    "        return datetime.datetime.strptime(x, '%H:%M:%S').time()\n",
    "    else:\n",
    "        return np.nan\n",
    "\n",
    "\n",
    "def get_time_range(x) -> str or np.nan:\n",
    "    if pd.isnull(x):\n",
    "        return np.nan\n",
    "\n",
    "    if x < datetime.time(4, 0):\n",
    "        return '00:00 - 03:59'\n",
    "    elif x < datetime.time(8, 0):\n",
    "        return '04:00 - 07:59'\n",
    "    elif x < datetime.time(12, 0):\n",
    "        return '08:00 - 11:59'\n",
    "    elif x < datetime.time(16, 0):\n",
    "        return '12:00 - 15:59'\n",
    "    elif x < datetime.time(20, 0):\n",
    "        return '16:00 - 19:59'\n",
    "    else:\n",
    "        return '20:00 - 23:59'"
   ]
  },
  {
   "cell_type": "code",
   "execution_count": 7,
   "metadata": {},
   "outputs": [],
   "source": [
    "df['time_range'] = df['time'].apply(correct_time).apply(get_time_range)\n",
    "df.drop(columns=['time'], inplace=True)"
   ]
  },
  {
   "cell_type": "code",
   "execution_count": 8,
   "metadata": {
    "scrolled": true
   },
   "outputs": [
    {
     "data": {
      "text/plain": [
       "8144"
      ]
     },
     "execution_count": 8,
     "metadata": {},
     "output_type": "execute_result"
    }
   ],
   "source": [
    "pd.notna(df['time_range']).sum()"
   ]
  },
  {
   "cell_type": "code",
   "execution_count": 9,
   "metadata": {},
   "outputs": [
    {
     "data": {
      "text/plain": [
       "12:00 - 15:59    1926\n",
       "08:00 - 11:59    1892\n",
       "16:00 - 19:59    1749\n",
       "20:00 - 23:59    1118\n",
       "04:00 - 07:59     888\n",
       "00:00 - 03:59     571\n",
       "Name: time_range, dtype: int64"
      ]
     },
     "execution_count": 9,
     "metadata": {},
     "output_type": "execute_result"
    }
   ],
   "source": [
    "df['time_range'].value_counts()"
   ]
  },
  {
   "cell_type": "markdown",
   "metadata": {},
   "source": [
    "###### weekday"
   ]
  },
  {
   "cell_type": "markdown",
   "metadata": {},
   "source": [
    "No correction"
   ]
  },
  {
   "cell_type": "code",
   "execution_count": 10,
   "metadata": {},
   "outputs": [
    {
     "data": {
      "text/plain": [
       "Friday       3513\n",
       "Thursday     3359\n",
       "Wednesday    3300\n",
       "Tuesday      3298\n",
       "Monday       3151\n",
       "Saturday     3030\n",
       "Sunday       2606\n",
       "Name: weekday, dtype: int64"
      ]
     },
     "execution_count": 10,
     "metadata": {},
     "output_type": "execute_result"
    }
   ],
   "source": [
    "df['weekday'].value_counts()"
   ]
  },
  {
   "cell_type": "markdown",
   "metadata": {},
   "source": [
    "###### day"
   ]
  },
  {
   "cell_type": "markdown",
   "metadata": {},
   "source": [
    "No correction"
   ]
  },
  {
   "cell_type": "code",
   "execution_count": 11,
   "metadata": {
    "scrolled": false
   },
   "outputs": [
    {
     "data": {
      "text/plain": [
       "10.00    890\n",
       "24.00    791\n",
       "15.00    778\n",
       "27.00    769\n",
       "19.00    763\n",
       "23.00    753\n",
       "6.00     750\n",
       "13.00    745\n",
       "18.00    742\n",
       "17.00    742\n",
       "11.00    739\n",
       "12.00    738\n",
       "22.00    736\n",
       "9.00     736\n",
       "4.00     735\n",
       "28.00    732\n",
       "14.00    728\n",
       "7.00     722\n",
       "26.00    719\n",
       "21.00    708\n",
       "25.00    707\n",
       "16.00    706\n",
       "2.00     705\n",
       "8.00     698\n",
       "5.00     683\n",
       "3.00     679\n",
       "30.00    676\n",
       "20.00    671\n",
       "1.00     662\n",
       "29.00    654\n",
       "31.00    400\n",
       "Name: day, dtype: int64"
      ]
     },
     "execution_count": 11,
     "metadata": {},
     "output_type": "execute_result"
    }
   ],
   "source": [
    "df['day'].value_counts()"
   ]
  },
  {
   "cell_type": "markdown",
   "metadata": {},
   "source": [
    "###### month"
   ]
  },
  {
   "cell_type": "markdown",
   "metadata": {},
   "source": [
    "No correction"
   ]
  },
  {
   "cell_type": "code",
   "execution_count": 12,
   "metadata": {
    "scrolled": false
   },
   "outputs": [
    {
     "data": {
      "text/plain": [
       "12.00    2013\n",
       "1.00     2011\n",
       "3.00     2001\n",
       "9.00     1988\n",
       "5.00     1956\n",
       "7.00     1884\n",
       "8.00     1835\n",
       "6.00     1833\n",
       "11.00    1828\n",
       "4.00     1789\n",
       "10.00    1746\n",
       "2.00     1639\n",
       "Name: month, dtype: int64"
      ]
     },
     "execution_count": 12,
     "metadata": {},
     "output_type": "execute_result"
    }
   ],
   "source": [
    "df['month'].value_counts()"
   ]
  },
  {
   "cell_type": "markdown",
   "metadata": {},
   "source": [
    "###### year"
   ]
  },
  {
   "cell_type": "markdown",
   "metadata": {},
   "source": [
    "No correction"
   ]
  },
  {
   "cell_type": "code",
   "execution_count": 13,
   "metadata": {
    "scrolled": false
   },
   "outputs": [
    {
     "data": {
      "text/plain": [
       "1944    1494\n",
       "1945    1418\n",
       "1943     751\n",
       "1969     389\n",
       "1946     370\n",
       "        ... \n",
       "1922       3\n",
       "1924       3\n",
       "1927       2\n",
       "1919       2\n",
       "1925       2\n",
       "Name: year, Length: 102, dtype: int64"
      ]
     },
     "execution_count": 13,
     "metadata": {},
     "output_type": "execute_result"
    }
   ],
   "source": [
    "df['year'].value_counts()"
   ]
  },
  {
   "cell_type": "markdown",
   "metadata": {},
   "source": [
    "###### first_flight"
   ]
  },
  {
   "cell_type": "code",
   "execution_count": 14,
   "metadata": {},
   "outputs": [],
   "source": [
    "def get_age_range(age) -> str or np.nan:\n",
    "    if pd.isnull(age):\n",
    "        return np.nan\n",
    "    \n",
    "    if age < 1:\n",
    "        return '0 - 1'\n",
    "    elif age < 3:\n",
    "        return '1 - 3'\n",
    "    elif age < 5:\n",
    "        return '3 - 5'\n",
    "    elif age < 10:\n",
    "        return '5 - 10'\n",
    "    elif age < 20:\n",
    "        return '10 - 20'\n",
    "    elif age < 30:\n",
    "        return '20 - 30'\n",
    "    elif age < 50:\n",
    "        return '30 - 50'\n",
    "    else:\n",
    "        return '> 50'"
   ]
  },
  {
   "cell_type": "code",
   "execution_count": 15,
   "metadata": {},
   "outputs": [],
   "source": [
    "df['age'] = (df['year'] - df['first_flight']).apply(lambda x: np.nan if x < 0 or np.isnan(x) else x)\n",
    "df['age_range'] = df['age'].apply(get_age_range)\n",
    "df.drop(columns=['first_flight'], inplace=True)"
   ]
  },
  {
   "cell_type": "code",
   "execution_count": 16,
   "metadata": {},
   "outputs": [
    {
     "data": {
      "text/plain": [
       "10 - 20    3781\n",
       "1 - 3      3234\n",
       "5 - 10     2778\n",
       "20 - 30    2628\n",
       "30 - 50    1825\n",
       "0 - 1      1481\n",
       "3 - 5      1375\n",
       "> 50        225\n",
       "Name: age_range, dtype: int64"
      ]
     },
     "execution_count": 16,
     "metadata": {},
     "output_type": "execute_result"
    }
   ],
   "source": [
    "df['age_range'].value_counts()"
   ]
  },
  {
   "cell_type": "markdown",
   "metadata": {},
   "source": [
    "###### total_airframe_hrs"
   ]
  },
  {
   "cell_type": "code",
   "execution_count": 17,
   "metadata": {},
   "outputs": [],
   "source": [
    "df['total_airframe_hrs'] = df['total_airframe_hrs'].apply(lambda x: x if isinstance(x, float) else np.nan)"
   ]
  },
  {
   "cell_type": "code",
   "execution_count": 18,
   "metadata": {},
   "outputs": [
    {
     "data": {
      "text/plain": [
       "Douglas C-47-DL (DC-3)                      461\n",
       "Junkers Ju-52/3m                            431\n",
       "Antonov An-2R                               364\n",
       "Douglas Dakota III (DC-3)                   260\n",
       "de Havilland Canada DHC-6 Twin Otter 300    246\n",
       "                                           ... \n",
       "Short Sunderland Mk III                       1\n",
       "Convair CV-990-30A-8 Coronado                 1\n",
       "Douglas C-47A-30-DK                           1\n",
       "Boeing 747-212BSF                             1\n",
       "Hawker Siddeley HS-748-286 Srs. 2A LFD        1\n",
       "Name: aircraft_type, Length: 3492, dtype: int64"
      ]
     },
     "execution_count": 18,
     "metadata": {},
     "output_type": "execute_result"
    }
   ],
   "source": [
    "df['aircraft_type'].value_counts()"
   ]
  },
  {
   "cell_type": "code",
   "execution_count": null,
   "metadata": {},
   "outputs": [],
   "source": [
    "df[df['age'] > 60]['probable_cause'].iloc[0]"
   ]
  },
  {
   "cell_type": "code",
   "execution_count": null,
   "metadata": {},
   "outputs": [],
   "source": [
    "df['age'].value_counts()"
   ]
  },
  {
   "cell_type": "code",
   "execution_count": null,
   "metadata": {},
   "outputs": [],
   "source": []
  },
  {
   "cell_type": "code",
   "execution_count": null,
   "metadata": {},
   "outputs": [],
   "source": [
    "df.head()"
   ]
  },
  {
   "cell_type": "code",
   "execution_count": null,
   "metadata": {},
   "outputs": [],
   "source": []
  },
  {
   "cell_type": "code",
   "execution_count": null,
   "metadata": {},
   "outputs": [],
   "source": [
    "pd.isna(df['weekday'].iloc[:5])"
   ]
  },
  {
   "cell_type": "code",
   "execution_count": null,
   "metadata": {},
   "outputs": [],
   "source": [
    "df.head()"
   ]
  },
  {
   "cell_type": "code",
   "execution_count": null,
   "metadata": {},
   "outputs": [],
   "source": []
  },
  {
   "cell_type": "code",
   "execution_count": null,
   "metadata": {},
   "outputs": [],
   "source": [
    "a = "
   ]
  },
  {
   "cell_type": "code",
   "execution_count": null,
   "metadata": {},
   "outputs": [],
   "source": [
    "df['time'].iloc[623]"
   ]
  },
  {
   "cell_type": "code",
   "execution_count": null,
   "metadata": {},
   "outputs": [],
   "source": [
    "pd.notna(a).sum()"
   ]
  },
  {
   "cell_type": "code",
   "execution_count": null,
   "metadata": {},
   "outputs": [],
   "source": []
  },
  {
   "cell_type": "code",
   "execution_count": null,
   "metadata": {},
   "outputs": [],
   "source": [
    "a.iloc[1]"
   ]
  },
  {
   "cell_type": "code",
   "execution_count": null,
   "metadata": {},
   "outputs": [],
   "source": [
    "datetime.time(24, 0) < a.iloc[1]"
   ]
  },
  {
   "cell_type": "code",
   "execution_count": null,
   "metadata": {},
   "outputs": [],
   "source": [
    "(df['time'] != 'None').sum()"
   ]
  },
  {
   "cell_type": "code",
   "execution_count": null,
   "metadata": {},
   "outputs": [],
   "source": [
    "df"
   ]
  },
  {
   "cell_type": "code",
   "execution_count": null,
   "metadata": {},
   "outputs": [],
   "source": [
    "df['time'] = df['time'].astype('str')\n",
    "df['time']"
   ]
  },
  {
   "cell_type": "code",
   "execution_count": null,
   "metadata": {},
   "outputs": [],
   "source": [
    "df['time'].iloc[0]"
   ]
  },
  {
   "cell_type": "code",
   "execution_count": null,
   "metadata": {},
   "outputs": [],
   "source": [
    "df[df['time'].str.contains('UTC')].shape"
   ]
  },
  {
   "cell_type": "code",
   "execution_count": null,
   "metadata": {
    "scrolled": false
   },
   "outputs": [],
   "source": [
    "df['time'].dtype"
   ]
  },
  {
   "cell_type": "code",
   "execution_count": null,
   "metadata": {},
   "outputs": [],
   "source": []
  },
  {
   "cell_type": "code",
   "execution_count": null,
   "metadata": {},
   "outputs": [],
   "source": [
    "df.head()"
   ]
  },
  {
   "cell_type": "code",
   "execution_count": null,
   "metadata": {},
   "outputs": [],
   "source": []
  },
  {
   "cell_type": "code",
   "execution_count": null,
   "metadata": {},
   "outputs": [],
   "source": []
  },
  {
   "cell_type": "code",
   "execution_count": null,
   "metadata": {},
   "outputs": [],
   "source": [
    "temp = df.groupby('year')[['id']].count() #Temp is going to be temporary data frame \n",
    "temp = temp.rename(columns={\"id\": \"Count\"})\n",
    "\n",
    "plt.figure(figsize=(12,6))\n",
    "plt.style.use('bmh')\n",
    "plt.plot(temp.index, 'Count', data=temp, color='blue', marker = \".\", linewidth=1)\n",
    "se\n",
    "plt.xlabel('Year', fontsize=10)\n",
    "plt.ylabel('Count', fontsize=10)\n",
    "plt.title('Count of accidents by Year', loc='Center', fontsize=14)\n",
    "plt.show()"
   ]
  },
  {
   "cell_type": "code",
   "execution_count": null,
   "metadata": {},
   "outputs": [],
   "source": []
  }
 ],
 "metadata": {
  "kernelspec": {
   "display_name": "Python 3",
   "language": "python",
   "name": "python3"
  },
  "language_info": {
   "codemirror_mode": {
    "name": "ipython",
    "version": 3
   },
   "file_extension": ".py",
   "mimetype": "text/x-python",
   "name": "python",
   "nbconvert_exporter": "python",
   "pygments_lexer": "ipython3",
   "version": "3.7.5"
  },
  "toc": {
   "base_numbering": 1,
   "nav_menu": {},
   "number_sections": true,
   "sideBar": true,
   "skip_h1_title": false,
   "title_cell": "Table of Contents",
   "title_sidebar": "Contents",
   "toc_cell": false,
   "toc_position": {},
   "toc_section_display": true,
   "toc_window_display": false
  }
 },
 "nbformat": 4,
 "nbformat_minor": 4
}
