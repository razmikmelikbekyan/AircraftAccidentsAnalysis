{
 "cells": [
  {
   "cell_type": "code",
   "execution_count": 1,
   "metadata": {},
   "outputs": [],
   "source": [
    "%load_ext autoreload"
   ]
  },
  {
   "cell_type": "code",
   "execution_count": 2,
   "metadata": {},
   "outputs": [],
   "source": [
    "%autoreload 2"
   ]
  },
  {
   "cell_type": "code",
   "execution_count": 3,
   "metadata": {},
   "outputs": [],
   "source": [
    "import pandas as pd\n",
    "import matplotlib.pyplot as plt\n",
    "import seaborn as sns\n",
    "import re\n",
    "import time\n",
    "import numpy as np\n",
    "import datetime\n",
    "import gc"
   ]
  },
  {
   "cell_type": "code",
   "execution_count": 4,
   "metadata": {},
   "outputs": [],
   "source": [
    "plt.style.use(\"dark_background\")"
   ]
  },
  {
   "cell_type": "code",
   "execution_count": 5,
   "metadata": {},
   "outputs": [],
   "source": [
    "from utils import sql_table_to_pandas, str2iter_match_ratio\n",
    "from plotting import (\n",
    "    plot_countplot,\n",
    "    plot_aggregated_barplot,\n",
    "    plot_lineplot,\n",
    "    plot_normalised_barplot,\n",
    "    plot_distplot\n",
    ")"
   ]
  },
  {
   "cell_type": "code",
   "execution_count": 6,
   "metadata": {},
   "outputs": [],
   "source": [
    "pd.set_option(\n",
    "    'display.max_rows', 100,\n",
    "    'display.max_columns', None,\n",
    "    'display.max_colwidth', 200,\n",
    "    'display.width', 100,\n",
    "    'display.float_format', '{:4,.2f}'.format\n",
    ")\n"
   ]
  },
  {
   "cell_type": "markdown",
   "metadata": {},
   "source": [
    "## Dataset description"
   ]
  },
  {
   "cell_type": "markdown",
   "metadata": {},
   "source": [
    "- *status*: investigation status\n",
    "- *time*: the time of accident\n",
    "- *day*: the day of accident\n",
    "- *month*: the monthe of accident\n",
    "- *year*: the year of accdient\n",
    "- *first_flight*: the year of aircraft first flight\n",
    "- *total_airframe_hrs*: the hours that aircraft flied\n",
    "- *aircraft_type*: the model of aircraft\n",
    "- *operator*: the company, organisation or individual operating the aircraft at the time of the accident\n",
    "- *country*: the country of accident\n",
    "- *location*: more detailed location of accident\n",
    "- *phase*: the phase of flight\n",
    "- *nature*: the nature of the flight\n",
    "- *engines*: number and type (model and mark) of engines\n",
    "- *narrative*: the description of the occurrence\n",
    "- *probable_cause*: the probable cause of the accident as established by the accident investigators\n",
    "- *aircraft_damage*: describes the amount of damage to the airplane as a result of the occurrence\n",
    "- *departure_airport*: the last airport of departure before the accident\n",
    "- *destination_airport*: the scheduled destination airport\n",
    "- *crew_occupants*: the exact number of flight- and cabincrew members aboard the aircraft at the time of departure\n",
    "- *crew_fatalities*: the number of crew members who fatally injured as a direct result of the accident\n",
    "- *passengers_occupants*: the number of passengers aboard the aircraft at the time of departure\n",
    "- *passengers_fatalities*: the number of passengers who fatally injured as a direct result of the accident\n",
    "- *total_occupants*: crew_occupants + passengers_occupants\n",
    "- *total_fatalities*: crew_fatalities + passengers_fatalities"
   ]
  },
  {
   "cell_type": "code",
   "execution_count": 7,
   "metadata": {},
   "outputs": [],
   "source": [
    "mapper = {\n",
    "    \n",
    "    'Aero Modifications AMI DC-3-65TP': 'Aero Modifications AMI C-47TP (DC-3T)',\n",
    "    'Aero Modifications AMI DC-3-65TP': 'Aero Modifications AMI DC-3-65TP',\n",
    "    'Aero Spacelines Mini Guppy Turbine': 'Aero Spacelines 377MGT Mini Guppy Turbine',\n",
    "    'Aeromarine 75': 'Aeromarine 75',\n",
    "    \n",
    "    \n",
    "    \n",
    "    \n",
    "    \n",
    "    \n",
    "    \n",
    "    \n",
    "}"
   ]
  },
  {
   "cell_type": "markdown",
   "metadata": {},
   "source": [
    "## Dataset cleaning"
   ]
  },
  {
   "cell_type": "code",
   "execution_count": 8,
   "metadata": {},
   "outputs": [],
   "source": [
    "df = sql_table_to_pandas('../db_config.JSON', 'accidents')"
   ]
  },
  {
   "cell_type": "code",
   "execution_count": 20,
   "metadata": {},
   "outputs": [
    {
     "data": {
      "text/html": [
       "<div>\n",
       "<style scoped>\n",
       "    .dataframe tbody tr th:only-of-type {\n",
       "        vertical-align: middle;\n",
       "    }\n",
       "\n",
       "    .dataframe tbody tr th {\n",
       "        vertical-align: top;\n",
       "    }\n",
       "\n",
       "    .dataframe thead th {\n",
       "        text-align: right;\n",
       "    }\n",
       "</style>\n",
       "<table border=\"1\" class=\"dataframe\">\n",
       "  <thead>\n",
       "    <tr style=\"text-align: right;\">\n",
       "      <th></th>\n",
       "      <th>status</th>\n",
       "      <th>time</th>\n",
       "      <th>weekday</th>\n",
       "      <th>day</th>\n",
       "      <th>month</th>\n",
       "      <th>year</th>\n",
       "      <th>first_flight</th>\n",
       "      <th>total_airframe_hrs</th>\n",
       "      <th>aircraft_type</th>\n",
       "      <th>operator</th>\n",
       "      <th>country</th>\n",
       "      <th>location</th>\n",
       "      <th>phase</th>\n",
       "      <th>nature</th>\n",
       "      <th>engines</th>\n",
       "      <th>narrative</th>\n",
       "      <th>probable_cause</th>\n",
       "      <th>aircraft_damage</th>\n",
       "      <th>departure_airport</th>\n",
       "      <th>destination_airport</th>\n",
       "      <th>crew_occupants</th>\n",
       "      <th>crew_fatalities</th>\n",
       "      <th>passengers_occupants</th>\n",
       "      <th>passengers_fatalities</th>\n",
       "      <th>total_occupants</th>\n",
       "      <th>total_fatalities</th>\n",
       "      <th>ground_fatalities</th>\n",
       "      <th>id</th>\n",
       "    </tr>\n",
       "  </thead>\n",
       "  <tbody>\n",
       "  </tbody>\n",
       "</table>\n",
       "</div>"
      ],
      "text/plain": [
       "Empty DataFrame\n",
       "Columns: [status, time, weekday, day, month, year, first_flight, total_airframe_hrs, aircraft_type, operator, country, location, phase, nature, engines, narrative, probable_cause, aircraft_damage, departure_airport, destination_airport, crew_occupants, crew_fatalities, passengers_occupants, passengers_fatalities, total_occupants, total_fatalities, ground_fatalities, id]\n",
       "Index: []"
      ]
     },
     "execution_count": 20,
     "metadata": {},
     "output_type": "execute_result"
    }
   ],
   "source": [
    "df[df.aircraft_type.str.contains('Aerospatiale')]"
   ]
  },
  {
   "cell_type": "code",
   "execution_count": 18,
   "metadata": {},
   "outputs": [
    {
     "data": {
      "text/plain": [
       "(1768, 13)"
      ]
     },
     "execution_count": 18,
     "metadata": {},
     "output_type": "execute_result"
    }
   ],
   "source": [
    "df_aircraft.shape"
   ]
  },
  {
   "cell_type": "code",
   "execution_count": 9,
   "metadata": {},
   "outputs": [],
   "source": [
    "df_aircraft = sql_table_to_pandas('../db_config.JSON', 'aircraft')\n",
    "df_aircraft.columns = [\n",
    "    c if 'aircraft' in c else f'aircraft_{c}' for c in df_aircraft.columns\n",
    "]\n",
    "df_aircraft['aircraft_series'] = df_aircraft['aircraft_series'].apply(\n",
    "    lambda x: list(set(x.split('$$'))) if x else []\n",
    ")\n",
    "\n",
    "df_aircraft = (\n",
    "    df_aircraft.set_index('aircraft_main_model')['aircraft_series'].apply(pd.Series)\n",
    "    .stack()\n",
    "    .reset_index(0, name='aircraft_type')\n",
    "    .merge(df_aircraft)\n",
    "    .drop(columns='aircraft_series')\n",
    "    .drop_duplicates(subset=['aircraft_type'])\n",
    ")\n"
   ]
  },
  {
   "cell_type": "code",
   "execution_count": 11,
   "metadata": {},
   "outputs": [],
   "source": [
    "df = pd.merge(df, df_aircraft, how='left', on='aircraft_type')"
   ]
  },
  {
   "cell_type": "code",
   "execution_count": 13,
   "metadata": {},
   "outputs": [
    {
     "data": {
      "text/plain": [
       "8178"
      ]
     },
     "execution_count": 13,
     "metadata": {},
     "output_type": "execute_result"
    }
   ],
   "source": [
    "df['aircraft_main_model'].notna().sum()"
   ]
  },
  {
   "cell_type": "code",
   "execution_count": null,
   "metadata": {},
   "outputs": [],
   "source": [
    "df = df[(df['year'] > 1919) & (df['year'] < 2020) & pd.notna(df['year'])] # selecting only full years"
   ]
  },
  {
   "cell_type": "code",
   "execution_count": null,
   "metadata": {},
   "outputs": [],
   "source": [
    "df = df.replace({None: np.nan, 'None': np.nan})"
   ]
  },
  {
   "cell_type": "code",
   "execution_count": null,
   "metadata": {},
   "outputs": [],
   "source": [
    "df.shape"
   ]
  },
  {
   "cell_type": "markdown",
   "metadata": {},
   "source": [
    "###### time"
   ]
  },
  {
   "cell_type": "code",
   "execution_count": null,
   "metadata": {},
   "outputs": [],
   "source": [
    "def get_time_range(x) -> str or np.nan:\n",
    "    if pd.isnull(x):\n",
    "        return np.nan\n",
    "\n",
    "    if x < datetime.time(4, 0):\n",
    "        return '00:00 - 03:59'\n",
    "    elif x < datetime.time(8, 0):\n",
    "        return '04:00 - 07:59'\n",
    "    elif x < datetime.time(12, 0):\n",
    "        return '08:00 - 11:59'\n",
    "    elif x < datetime.time(16, 0):\n",
    "        return '12:00 - 15:59'\n",
    "    elif x < datetime.time(20, 0):\n",
    "        return '16:00 - 19:59'\n",
    "    else:\n",
    "        return '20:00 - 23:59'"
   ]
  },
  {
   "cell_type": "code",
   "execution_count": null,
   "metadata": {},
   "outputs": [],
   "source": [
    "df['time'] = df['time'].apply(lambda x: np.nan if pd.isnull(x) else str(x)[-8:])\n",
    "df['time'] = pd.to_datetime(df['time'], format='%H:%M:%S').dt.time\n",
    "df['time_range'] = df['time'].apply(get_time_range)\n",
    "df.drop(columns=['time'], inplace=True)"
   ]
  },
  {
   "cell_type": "code",
   "execution_count": null,
   "metadata": {},
   "outputs": [],
   "source": [
    "df['time_range'].value_counts()"
   ]
  },
  {
   "cell_type": "markdown",
   "metadata": {},
   "source": [
    "###### weekday"
   ]
  },
  {
   "cell_type": "code",
   "execution_count": null,
   "metadata": {},
   "outputs": [],
   "source": [
    "cats = ['Monday', 'Tuesday', 'Wednesday', 'Thursday', 'Friday', 'Saturday', 'Sunday']\n",
    "df['weekday'] = pd.Categorical(df['weekday'], categories=cats, ordered=True)"
   ]
  },
  {
   "cell_type": "code",
   "execution_count": null,
   "metadata": {},
   "outputs": [],
   "source": [
    "df['weekday'].value_counts()"
   ]
  },
  {
   "cell_type": "markdown",
   "metadata": {},
   "source": [
    "###### day"
   ]
  },
  {
   "cell_type": "markdown",
   "metadata": {},
   "source": [
    "No correction"
   ]
  },
  {
   "cell_type": "code",
   "execution_count": null,
   "metadata": {
    "scrolled": false
   },
   "outputs": [],
   "source": [
    "df['day'].value_counts()"
   ]
  },
  {
   "cell_type": "markdown",
   "metadata": {},
   "source": [
    "###### month"
   ]
  },
  {
   "cell_type": "markdown",
   "metadata": {},
   "source": [
    "No correction"
   ]
  },
  {
   "cell_type": "code",
   "execution_count": null,
   "metadata": {
    "scrolled": false
   },
   "outputs": [],
   "source": [
    "df['month'].value_counts()"
   ]
  },
  {
   "cell_type": "markdown",
   "metadata": {},
   "source": [
    "###### year"
   ]
  },
  {
   "cell_type": "code",
   "execution_count": null,
   "metadata": {},
   "outputs": [],
   "source": [
    "df['year'] = df['year'].astype(int)\n",
    "df['decade'] = (df['year'] // 10 * 10).apply(lambda x: f'{x}s')"
   ]
  },
  {
   "cell_type": "code",
   "execution_count": null,
   "metadata": {
    "scrolled": false
   },
   "outputs": [],
   "source": [
    "df['decade'].value_counts()"
   ]
  },
  {
   "cell_type": "markdown",
   "metadata": {},
   "source": [
    "###### first_flight"
   ]
  },
  {
   "cell_type": "code",
   "execution_count": null,
   "metadata": {},
   "outputs": [],
   "source": [
    "def get_age_range(age) -> str or np.nan:\n",
    "    if pd.isnull(age):\n",
    "        return np.nan\n",
    "    \n",
    "    if age < 1:\n",
    "        return '0 - 1'\n",
    "    elif age < 3:\n",
    "        return '1 - 3'\n",
    "    elif age < 5:\n",
    "        return '3 - 5'\n",
    "    elif age < 10:\n",
    "        return '5 - 10'\n",
    "    elif age < 20:\n",
    "        return '10 - 20'\n",
    "    elif age < 30:\n",
    "        return '20 - 30'\n",
    "    elif age < 50:\n",
    "        return '30 - 50'\n",
    "    else:\n",
    "        return '> 50'"
   ]
  },
  {
   "cell_type": "code",
   "execution_count": null,
   "metadata": {},
   "outputs": [],
   "source": [
    "df['aircraft_age'] = (df['year'] - df['first_flight']).apply(lambda x: np.nan if x < 0 or np.isnan(x) else x)\n",
    "df['aircraft_age_range'] = df['aircraft_age'].apply(get_age_range)\n",
    "df.drop(columns=['first_flight'], inplace=True)"
   ]
  },
  {
   "cell_type": "code",
   "execution_count": null,
   "metadata": {},
   "outputs": [],
   "source": [
    "df['aircraft_age_range'].value_counts()"
   ]
  },
  {
   "cell_type": "markdown",
   "metadata": {},
   "source": [
    "###### total_airframe_hrs"
   ]
  },
  {
   "cell_type": "markdown",
   "metadata": {},
   "source": [
    "No correction"
   ]
  },
  {
   "cell_type": "code",
   "execution_count": null,
   "metadata": {},
   "outputs": [],
   "source": [
    "df['total_airframe_hrs'].dtype"
   ]
  },
  {
   "cell_type": "markdown",
   "metadata": {},
   "source": [
    "###### aircraft_damage"
   ]
  },
  {
   "cell_type": "code",
   "execution_count": null,
   "metadata": {},
   "outputs": [],
   "source": [
    "df['aircraft_damage'].replace({'Missing': 'Unknown'}, inplace = True)"
   ]
  },
  {
   "cell_type": "code",
   "execution_count": null,
   "metadata": {
    "scrolled": true
   },
   "outputs": [],
   "source": [
    "df['aircraft_damage'].value_counts()"
   ]
  },
  {
   "cell_type": "markdown",
   "metadata": {},
   "source": [
    "###### phase"
   ]
  },
  {
   "cell_type": "code",
   "execution_count": null,
   "metadata": {},
   "outputs": [],
   "source": [
    "df['phase'].value_counts()"
   ]
  },
  {
   "cell_type": "markdown",
   "metadata": {},
   "source": [
    "###### country"
   ]
  },
  {
   "cell_type": "code",
   "execution_count": null,
   "metadata": {},
   "outputs": [],
   "source": [
    "df['country'].value_counts()"
   ]
  },
  {
   "cell_type": "markdown",
   "metadata": {},
   "source": [
    "###### nature"
   ]
  },
  {
   "cell_type": "code",
   "execution_count": null,
   "metadata": {},
   "outputs": [],
   "source": [
    "def get_nature_group(x) -> str:\n",
    "    if x in ('Military', 'Unknown', 'Test', 'Cargo', 'Private', 'Official state flight', ):\n",
    "        return x\n",
    "    elif x in ('Executive', 'Training', ):\n",
    "        return 'Training / Executive'\n",
    "    elif 'Passenger' in x:\n",
    "        return 'Passenger'\n",
    "    elif x in ('Agricultural',  'Survey/research', 'Aerial Work (Calibration, Photo)'):\n",
    "        return 'Scientific'\n",
    "    else:\n",
    "        return 'Other'"
   ]
  },
  {
   "cell_type": "code",
   "execution_count": null,
   "metadata": {},
   "outputs": [],
   "source": [
    "df['nature_group'] = df['nature'].apply(get_nature_group)"
   ]
  },
  {
   "cell_type": "code",
   "execution_count": null,
   "metadata": {},
   "outputs": [],
   "source": [
    "df['nature_group'].value_counts()"
   ]
  },
  {
   "cell_type": "markdown",
   "metadata": {},
   "source": [
    "## Data Analysis"
   ]
  },
  {
   "cell_type": "markdown",
   "metadata": {},
   "source": [
    "### Timely Analysis"
   ]
  },
  {
   "cell_type": "code",
   "execution_count": null,
   "metadata": {
    "scrolled": false
   },
   "outputs": [],
   "source": [
    "plot_countplot(\n",
    "    df, \n",
    "    'year', \n",
    "    hue_column=None, \n",
    "    figsize=(18, 8), \n",
    "    title='Count of aircraft accidents by Year',\n",
    "    ylims=(0, 1700)\n",
    ")"
   ]
  },
  {
   "cell_type": "code",
   "execution_count": null,
   "metadata": {},
   "outputs": [],
   "source": [
    "temp = df.groupby(by=['decade'])['nature_group'].apply(\n",
    "    lambda x: x.value_counts() / len(x)).unstack()\n",
    "\n",
    "fig = plt.figure(figsize=(12, 6))\n",
    "ax = fig.add_subplot(111)\n",
    "plt.title(\n",
    "    'Perecentage accidents of different Nature Aricraft within Decades',\n",
    "    fontsize=14, fontweight='bold'\n",
    ")\n",
    "temp.plot(ax=ax, kind='bar', stacked=True, rot=0,\n",
    "          color=sns.color_palette('tab10', n_colors=10))\n",
    "vals = ax.get_yticks()\n",
    "ax.set_yticklabels(['{:3.0f}%'.format(x * 100) for x in vals])\n",
    "ax.set_axisbelow(True)\n",
    "sns.despine()\n",
    "plt.legend(loc=\"upper right\", bbox_to_anchor=(1.3, 1))\n",
    "plt.xticks(rotation=0, fontsize=12, fontweight='bold')\n",
    "plt.yticks(fontsize=12, fontweight='bold')\n",
    "plt.xlabel('decade', fontsize=12, fontweight='bold')\n",
    "plt.ylabel('Percentage', fontsize=12, fontweight='bold')\n",
    "\n",
    "plt.grid(True, axis='y', linestyle='--', color='orange')\n",
    "plt.tight_layout()\n",
    "\n",
    "plt.show()"
   ]
  },
  {
   "cell_type": "code",
   "execution_count": null,
   "metadata": {
    "scrolled": false
   },
   "outputs": [],
   "source": [
    "plot_countplot(\n",
    "    df[df['nature_group'] == 'Passenger'], \n",
    "    'year', \n",
    "    figsize=(18, 8), \n",
    "    title='Count of Passenger aircraft accidents by Year',\n",
    "    ylims=(0, 200)\n",
    ")"
   ]
  },
  {
   "cell_type": "code",
   "execution_count": null,
   "metadata": {
    "scrolled": false
   },
   "outputs": [],
   "source": [
    "plot_countplot(\n",
    "    df[df['nature_group'] == 'Passenger'].sort_values(by='decade'), \n",
    "    'decade', \n",
    "    figsize=(12, 6), \n",
    "    title='Count of Passenger aircraft accidents by Decade',\n",
    "    ylims=(0, 1500),\n",
    "    ticks_rotation=0,\n",
    "    ticks_fontsize=12\n",
    ")"
   ]
  },
  {
   "cell_type": "code",
   "execution_count": null,
   "metadata": {
    "scrolled": false
   },
   "outputs": [],
   "source": [
    "temp = df[df['nature_group'] == 'Passenger']\n",
    "temp = temp[pd.notna(temp['month'])]\n",
    "temp['month'] = temp['month'].astype(int)\n",
    "plot_countplot(\n",
    "    temp, \n",
    "    'month', \n",
    "    figsize=(12, 6), \n",
    "    title='Count of Passenger aircraft accidents by Month',\n",
    "    ylims=(0, 800),\n",
    "    ticks_rotation=0,\n",
    "    ticks_fontsize=12\n",
    ")"
   ]
  },
  {
   "cell_type": "code",
   "execution_count": null,
   "metadata": {
    "scrolled": false
   },
   "outputs": [],
   "source": [
    "plot_countplot(\n",
    "    df[df['nature_group'] == 'Passenger'].sort_values(by='weekday'), \n",
    "    'weekday', \n",
    "    figsize=(12, 6), \n",
    "    title='Count of Passenger aircraft accidents by Weekday',\n",
    "    ylims=(0, 1200),\n",
    "    ticks_rotation=0,\n",
    "    ticks_fontsize=11\n",
    ")"
   ]
  },
  {
   "cell_type": "code",
   "execution_count": null,
   "metadata": {
    "scrolled": false
   },
   "outputs": [],
   "source": [
    "plot_countplot(\n",
    "    df[df['nature_group'] == 'Passenger'].sort_values(by='time_range'), \n",
    "    'time_range', \n",
    "    figsize=(12, 6), \n",
    "    title='Count of Passenger aircraft accidents by Time Range',\n",
    "    ylims=(0, 1200),\n",
    "    ticks_rotation=0,\n",
    "    ticks_fontsize=12\n",
    ")"
   ]
  },
  {
   "cell_type": "code",
   "execution_count": null,
   "metadata": {},
   "outputs": [],
   "source": [
    "plot_aggregated_barplot(\n",
    "    df,\n",
    "    'year',\n",
    "    'total_fatalities',\n",
    "    'sum',\n",
    "    figsize=(18, 8),\n",
    "    title='Total Fatalities by Year',\n",
    "    ylims=(0, 3800)\n",
    ")"
   ]
  },
  {
   "cell_type": "code",
   "execution_count": null,
   "metadata": {},
   "outputs": [],
   "source": [
    "plot_aggregated_barplot(\n",
    "    df[df['nature_group'] == 'Passenger'],\n",
    "    'year',\n",
    "    'total_fatalities',\n",
    "    'sum',\n",
    "    figsize=(18, 8),\n",
    "    title='Total Fatalities by Year for Passenger aircraft',\n",
    "    ylims=(0, 3000)\n",
    ")"
   ]
  },
  {
   "cell_type": "code",
   "execution_count": null,
   "metadata": {},
   "outputs": [],
   "source": [
    "plot_aggregated_barplot(\n",
    "    df,\n",
    "    'decade',\n",
    "    'total_fatalities',\n",
    "    'sum',\n",
    "    figsize=(12, 6),\n",
    "    title='Total Fatalities by Decate',\n",
    "    ylims=(0, 25000),\n",
    "    ticks_rotation=0,\n",
    "    ticks_fontsize=12\n",
    ")"
   ]
  },
  {
   "cell_type": "code",
   "execution_count": null,
   "metadata": {},
   "outputs": [],
   "source": [
    "plot_aggregated_barplot(\n",
    "    df[df['nature_group'] == 'Passenger'],\n",
    "    'decade',\n",
    "    'total_fatalities',\n",
    "    'sum',\n",
    "    figsize=(12, 6),\n",
    "    title='Total Fatalities by Decade for Passenger aircraft',\n",
    "    ylims=(0, 20000),\n",
    "    ticks_rotation=0,\n",
    "    ticks_fontsize=12\n",
    ")"
   ]
  },
  {
   "cell_type": "code",
   "execution_count": null,
   "metadata": {},
   "outputs": [],
   "source": [
    "temp = df[df['nature_group'] == 'Passenger']\n",
    "temp = temp[pd.notna(temp['total_fatalities'])].groupby('year').agg({'total_fatalities': ('sum', 'count')})\n",
    "temp.columns = ['_'.join(col).strip() for col in temp.columns]\n",
    "temp = temp.reset_index()\n",
    "temp['fatalities per accident'] = temp['total_fatalities_sum'] / temp['total_fatalities_count']\n",
    "plot_lineplot(\n",
    "    temp,\n",
    "    'year',\n",
    "    'fatalities per accident',\n",
    "    figsize=(12, 6),\n",
    "    title='Fatalities per Accident over Years for Passenger aircraft',\n",
    "    ticks_rotation=0,\n",
    "    ticks_fontsize=12\n",
    "    \n",
    ")"
   ]
  },
  {
   "cell_type": "code",
   "execution_count": null,
   "metadata": {
    "scrolled": false
   },
   "outputs": [],
   "source": [
    "temp = df[df['nature_group'] == 'Passenger']\n",
    "temp = temp[pd.notna(temp['total_fatalities'])].groupby('year').agg(\n",
    "    {'total_fatalities': 'sum', 'total_occupants': 'sum'}\n",
    ")\n",
    "temp = temp.reset_index()\n",
    "temp['death ratio'] = temp['total_fatalities'] / temp['total_occupants']\n",
    "plot_lineplot(\n",
    "    temp,\n",
    "    'year',\n",
    "    'death ratio',\n",
    "    figsize=(12, 6),\n",
    "    title='Fatalities vs People Aboard (death ratio) for Passenger aircraft',\n",
    "    ticks_rotation=0,\n",
    "    ticks_fontsize=12\n",
    ")"
   ]
  },
  {
   "cell_type": "code",
   "execution_count": null,
   "metadata": {
    "scrolled": false
   },
   "outputs": [],
   "source": [
    "temp = df[df['nature_group'] == 'Passenger']\n",
    "temp = temp[pd.notna(temp['total_fatalities'])].groupby('time_range').agg(\n",
    "    {'total_fatalities': 'sum', 'total_occupants': 'sum'}\n",
    ")\n",
    "temp = temp.reset_index()\n",
    "temp['death ratio'] = temp['total_fatalities'] / temp['total_occupants']\n",
    "plot_lineplot(\n",
    "    temp,\n",
    "    'time_range',\n",
    "    'death ratio',\n",
    "    figsize=(12, 6),\n",
    "    title='Fatalities vs People Aboard (death ratio) for Passenger aircraft',\n",
    "    ticks_rotation=0,\n",
    "    ticks_fontsize=12\n",
    ")"
   ]
  },
  {
   "cell_type": "markdown",
   "metadata": {},
   "source": [
    "The first two plot shows air crash count in each year and fatality count and death ratio in each ten years. We can see that after 1970, total amount of accidents and people die from accidents are both decreasing. Due to lack of annually flights count data, we can't simply say that accident rate is decreasing. However, the death rate went down from over 90% to around 65% throughout history, which means passengers are more likely to survive than before in an air crash.\n",
    "The third plot shows air crash death ratio by time of day. Number of air crash are distinguished by day and night. Again, due to data limitation, we can't conclude that at what time it has higher accident rate, but death rate during night is higher than during day."
   ]
  },
  {
   "cell_type": "code",
   "execution_count": null,
   "metadata": {},
   "outputs": [],
   "source": [
    "df['aircraft_type'].head()"
   ]
  },
  {
   "cell_type": "code",
   "execution_count": null,
   "metadata": {},
   "outputs": [],
   "source": []
  },
  {
   "cell_type": "code",
   "execution_count": null,
   "metadata": {},
   "outputs": [],
   "source": [
    "import re"
   ]
  },
  {
   "cell_type": "code",
   "execution_count": null,
   "metadata": {},
   "outputs": [],
   "source": [
    "list(map(int, re.findall(r'\\d+', 'Fatalities: 1600')))"
   ]
  },
  {
   "cell_type": "code",
   "execution_count": null,
   "metadata": {},
   "outputs": [],
   "source": []
  }
 ],
 "metadata": {
  "kernelspec": {
   "display_name": "Python 3",
   "language": "python",
   "name": "python3"
  },
  "language_info": {
   "codemirror_mode": {
    "name": "ipython",
    "version": 3
   },
   "file_extension": ".py",
   "mimetype": "text/x-python",
   "name": "python",
   "nbconvert_exporter": "python",
   "pygments_lexer": "ipython3",
   "version": "3.7.5"
  },
  "toc": {
   "base_numbering": 1,
   "nav_menu": {},
   "number_sections": true,
   "sideBar": true,
   "skip_h1_title": false,
   "title_cell": "Table of Contents",
   "title_sidebar": "Contents",
   "toc_cell": false,
   "toc_position": {},
   "toc_section_display": true,
   "toc_window_display": false
  }
 },
 "nbformat": 4,
 "nbformat_minor": 4
}
